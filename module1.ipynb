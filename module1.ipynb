{
 "cells": [
  {
   "cell_type": "markdown",
   "id": "d7a8da8e-73cc-44db-8651-16b673cdbdae",
   "metadata": {},
   "source": [
    "# Introduction to MLWhat version of Pandas did you install?"
   ]
  },
  {
   "cell_type": "code",
   "execution_count": 116,
   "id": "2843f5e2-08ac-4af9-9bdb-f449301c6aca",
   "metadata": {},
   "outputs": [],
   "source": [
    "import pandas as pd\n",
    "import numpy as np\n",
    "dataf = pd.read_csv(\"data/car_fuel_efficiency.csv\")"
   ]
  },
  {
   "cell_type": "markdown",
   "id": "33267204-8c1c-4b0b-a56a-c9fa6278fad2",
   "metadata": {},
   "source": [
    "## Q1. Pandas version"
   ]
  },
  {
   "cell_type": "code",
   "execution_count": 117,
   "id": "267ae008-8734-4041-96d8-8471bcf5f6a7",
   "metadata": {},
   "outputs": [
    {
     "data": {
      "text/plain": [
       "'2.3.2'"
      ]
     },
     "execution_count": 117,
     "metadata": {},
     "output_type": "execute_result"
    }
   ],
   "source": [
    "# What version of Pandas did you install?\n",
    "pd.__version__"
   ]
  },
  {
   "cell_type": "markdown",
   "id": "227d10e6-7330-4ba2-838e-4e3717aff6b0",
   "metadata": {},
   "source": [
    "## Q2. Records count"
   ]
  },
  {
   "cell_type": "code",
   "execution_count": 118,
   "id": "b171cb95-94ba-465d-8c24-7e3e98172ea1",
   "metadata": {},
   "outputs": [
    {
     "data": {
      "text/plain": [
       "(9704, 11)"
      ]
     },
     "execution_count": 118,
     "metadata": {},
     "output_type": "execute_result"
    }
   ],
   "source": [
    "# Records count : How many records are in the dataset?\n",
    "dataf.shape"
   ]
  },
  {
   "cell_type": "markdown",
   "id": "3a1de93b-400a-48ae-b6b4-d5f29e2632bc",
   "metadata": {},
   "source": [
    "## Q3. Fuel types"
   ]
  },
  {
   "cell_type": "code",
   "execution_count": 119,
   "id": "5cc3a984-74a0-4e51-85fa-47819ab05072",
   "metadata": {},
   "outputs": [
    {
     "data": {
      "text/plain": [
       "2"
      ]
     },
     "execution_count": 119,
     "metadata": {},
     "output_type": "execute_result"
    }
   ],
   "source": [
    "# How many fuel types are presented in the dataset?\n",
    "dataf['fuel_type'].nunique()"
   ]
  },
  {
   "cell_type": "markdown",
   "id": "8796b30c-115c-4e9d-a639-ef5990416901",
   "metadata": {},
   "source": [
    "## Q4. Missing values"
   ]
  },
  {
   "cell_type": "code",
   "execution_count": 120,
   "id": "0c6df3a7-84bb-439d-bc93-740b012a4247",
   "metadata": {},
   "outputs": [
    {
     "data": {
      "text/plain": [
       "engine_displacement      0\n",
       "num_cylinders          482\n",
       "horsepower             708\n",
       "vehicle_weight           0\n",
       "acceleration           930\n",
       "model_year               0\n",
       "origin                   0\n",
       "fuel_type                0\n",
       "drivetrain               0\n",
       "num_doors              502\n",
       "fuel_efficiency_mpg      0\n",
       "dtype: int64"
      ]
     },
     "execution_count": 120,
     "metadata": {},
     "output_type": "execute_result"
    }
   ],
   "source": [
    "# How many columns in the dataset have missing values?\n",
    "dataf.isnull().sum()"
   ]
  },
  {
   "cell_type": "markdown",
   "id": "35a321c3-9e40-4eed-b114-380995e32646",
   "metadata": {},
   "source": [
    "## Q5. Max fuel efficiency"
   ]
  },
  {
   "cell_type": "code",
   "execution_count": 121,
   "id": "8f9d3a89-103f-4255-8ec4-104a63ecf793",
   "metadata": {},
   "outputs": [
    {
     "data": {
      "text/plain": [
       "np.float64(23.759122836520497)"
      ]
     },
     "execution_count": 121,
     "metadata": {},
     "output_type": "execute_result"
    }
   ],
   "source": [
    "# What's the maximum fuel efficiency of cars from Asia?What's the maximum fuel efficiency of cars from Asia?\n",
    "df_asia = dataf[dataf['origin'] == 'Asia']\n",
    "df_asia['fuel_efficiency_mpg'].max()"
   ]
  },
  {
   "cell_type": "markdown",
   "id": "f29351d9-1f3a-48d3-9858-e09fb6f17e92",
   "metadata": {},
   "source": [
    "## Q6. Median value of horsepower"
   ]
  },
  {
   "cell_type": "code",
   "execution_count": 122,
   "id": "52f19d30-4bf7-4a5d-a62e-5e35c573bfb3",
   "metadata": {},
   "outputs": [
    {
     "data": {
      "text/plain": [
       "np.float64(149.0)"
      ]
     },
     "execution_count": 122,
     "metadata": {},
     "output_type": "execute_result"
    }
   ],
   "source": [
    "# Find the median value of the horsepower column in the dataset.\n",
    "dataf['horsepower'].median()"
   ]
  },
  {
   "cell_type": "code",
   "execution_count": 123,
   "id": "165fcc38-b56f-41d4-914a-fe5c3dd28ce8",
   "metadata": {},
   "outputs": [
    {
     "data": {
      "text/plain": [
       "np.float64(152.0)"
      ]
     },
     "execution_count": 123,
     "metadata": {},
     "output_type": "execute_result"
    }
   ],
   "source": [
    "# Next, calculate the most frequent value of the same horsepower column.\n",
    "most_frequent_horsepower = dataf['horsepower'].mode()[0]\n",
    "most_frequent_horsepower"
   ]
  },
  {
   "cell_type": "code",
   "execution_count": 124,
   "id": "e40e2387-5fa3-4674-8e91-ac92d494caea",
   "metadata": {},
   "outputs": [],
   "source": [
    "# Use the fillna method to fill the missing values in the horsepower column with the most frequent value from the previous step.\n",
    "new_df = dataf.fillna(value={'horsepower': most_frequent_horsepower})"
   ]
  },
  {
   "cell_type": "code",
   "execution_count": 125,
   "id": "87174065-5c78-40f1-a2ce-4b60441e0dda",
   "metadata": {},
   "outputs": [
    {
     "data": {
      "text/plain": [
       "np.float64(152.0)"
      ]
     },
     "execution_count": 125,
     "metadata": {},
     "output_type": "execute_result"
    }
   ],
   "source": [
    "# Now, calculate the median value of horsepower once again.\n",
    "# new_df.isnull().sum()\n",
    "new_df['horsepower'].median()\n"
   ]
  },
  {
   "cell_type": "markdown",
   "id": "e41b5153-01d7-4c82-9d02-b0dc51bf925d",
   "metadata": {},
   "source": [
    "## Q7. Sum of weights"
   ]
  },
  {
   "cell_type": "code",
   "execution_count": 141,
   "id": "2790c6f7-7111-4e03-9b83-ad888a5e0297",
   "metadata": {},
   "outputs": [
    {
     "data": {
      "text/plain": [
       "np.float64(0.5187709081074016)"
      ]
     },
     "execution_count": 141,
     "metadata": {},
     "output_type": "execute_result"
    }
   ],
   "source": [
    "# Select all the cars from Asia\n",
    "cars_asia = dataf[dataf['origin'] == 'Asia']\n",
    "\n",
    "# Select only columns vehicle_weight and model_year\n",
    "cars_asia = cars_asia[['vehicle_weight', 'model_year']]\n",
    "\n",
    "# Select the first 7 values\n",
    "cars_asia = cars_asia.head(n=7)\n",
    "\n",
    "# Get the underlying NumPy array. Let's call it X.\n",
    "X = cars_asia.values\n",
    "\n",
    "# Compute matrix-matrix multiplication between the transpose of X and X. To get the transpose, use X.T. Let's call the result XTX\n",
    "XT = X.T\n",
    "XTX = np.dot(XT,X)\n",
    "\n",
    "# -> check if XTX is square matrix\n",
    "XTX.shape \n",
    "# XT.shape\n",
    "\n",
    "# Invert XTX\n",
    "XTX_inverse = np.linalg.inv(XTX)\n",
    "\n",
    "# # Create an array y with values [1100, 1300, 800, 900, 1000, 1100, 1200]\n",
    "Y = np.array([1100, 1300, 800, 900, 1000, 1100, 1200])\n",
    "\n",
    "# # Multiply the inverse of XTX with the transpose of X, and then multiply the result by y. Call the result w.\n",
    "W = XTX_inverse.dot(XT).dot(Y)\n",
    "\n",
    "# What's the sum of all the elements of the result?\n",
    "W.sum()"
   ]
  },
  {
   "cell_type": "code",
   "execution_count": null,
   "id": "c73f0163-c2f4-4bf2-b291-2724dbbce4b3",
   "metadata": {},
   "outputs": [],
   "source": []
  }
 ],
 "metadata": {
  "kernelspec": {
   "display_name": "Python 3 (ipykernel)",
   "language": "python",
   "name": "python3"
  },
  "language_info": {
   "codemirror_mode": {
    "name": "ipython",
    "version": 3
   },
   "file_extension": ".py",
   "mimetype": "text/x-python",
   "name": "python",
   "nbconvert_exporter": "python",
   "pygments_lexer": "ipython3",
   "version": "3.13.7"
  }
 },
 "nbformat": 4,
 "nbformat_minor": 5
}
